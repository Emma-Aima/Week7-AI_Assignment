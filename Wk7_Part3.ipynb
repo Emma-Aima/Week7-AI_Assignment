{
 "cells": [
  {
   "cell_type": "code",
   "execution_count": 1,
   "id": "1da9890c-ed92-43db-bc2a-7d5adfc834cb",
   "metadata": {},
   "outputs": [
    {
     "ename": "ModuleNotFoundError",
     "evalue": "No module named 'aif360'",
     "output_type": "error",
     "traceback": [
      "\u001b[0;31m---------------------------------------------------------------------------\u001b[0m",
      "\u001b[0;31mModuleNotFoundError\u001b[0m                       Traceback (most recent call last)",
      "Cell \u001b[0;32mIn[1], line 3\u001b[0m\n\u001b[1;32m      1\u001b[0m \u001b[38;5;66;03m# Step 1: Load and Preprocess Data\u001b[39;00m\n\u001b[1;32m      2\u001b[0m \u001b[38;5;28;01mimport\u001b[39;00m \u001b[38;5;21;01mpandas\u001b[39;00m \u001b[38;5;28;01mas\u001b[39;00m \u001b[38;5;21;01mpd\u001b[39;00m\n\u001b[0;32m----> 3\u001b[0m \u001b[38;5;28;01mfrom\u001b[39;00m \u001b[38;5;21;01maif360\u001b[39;00m\u001b[38;5;21;01m.\u001b[39;00m\u001b[38;5;21;01mdatasets\u001b[39;00m \u001b[38;5;28;01mimport\u001b[39;00m BinaryLabelDataset\n\u001b[1;32m      4\u001b[0m \u001b[38;5;28;01mfrom\u001b[39;00m \u001b[38;5;21;01maif360\u001b[39;00m\u001b[38;5;21;01m.\u001b[39;00m\u001b[38;5;21;01mmetrics\u001b[39;00m \u001b[38;5;28;01mimport\u001b[39;00m BinaryLabelDatasetMetric\n\u001b[1;32m      6\u001b[0m \u001b[38;5;66;03m# Load COMPAS data (filtered for relevant columns)\u001b[39;00m\n",
      "\u001b[0;31mModuleNotFoundError\u001b[0m: No module named 'aif360'"
     ]
    }
   ],
   "source": [
    "# Step 1: Load and Preprocess Data\n",
    "import pandas as pd\n",
    "from aif360.datasets import BinaryLabelDataset\n",
    "from aif360.metrics import BinaryLabelDatasetMetric\n",
    "\n",
    "# Load COMPAS data (filtered for relevant columns)\n",
    "df = pd.read_csv(\"compas-scores-two-years.csv\")\n",
    "df = df[[\"race\", \"decile_score\", \"two_year_recid\"]]\n",
    "\n",
    "# Convert to AIF360 format\n",
    "dataset = BinaryLabelDataset(\n",
    "    favorable_label=0,  # Lower recidivism\n",
    "    unfavorable_label=1,\n",
    "    df=df,\n",
    "    label_names=[\"two_year_recid\"],\n",
    "    protected_attribute_names=[\"race\"]\n",
    ")"
   ]
  },
  {
   "cell_type": "code",
   "execution_count": 3,
   "id": "2c1244e4-dbf1-45d8-9c6e-0cfbe9c265fe",
   "metadata": {},
   "outputs": [
    {
     "name": "stdout",
     "output_type": "stream",
     "text": [
      "Defaulting to user installation because normal site-packages is not writeable\n",
      "Looking in links: /usr/share/pip-wheels\n",
      "Collecting aif360\n",
      "  Obtaining dependency information for aif360 from https://files.pythonhosted.org/packages/61/7b/7e4fa9e7b6f62759663db3b5aaa12a6cc9ef866223e5978c25844bceb762/aif360-0.6.1-py3-none-any.whl.metadata\n",
      "  Downloading aif360-0.6.1-py3-none-any.whl.metadata (5.0 kB)\n",
      "Requirement already satisfied: numpy>=1.16 in /opt/conda/envs/anaconda-panel-2023.05-py310/lib/python3.11/site-packages (from aif360) (1.24.3)\n",
      "Requirement already satisfied: scipy>=1.2.0 in /opt/conda/envs/anaconda-panel-2023.05-py310/lib/python3.11/site-packages (from aif360) (1.11.1)\n",
      "Requirement already satisfied: pandas>=0.24.0 in /opt/conda/envs/anaconda-panel-2023.05-py310/lib/python3.11/site-packages (from aif360) (2.0.3)\n",
      "Requirement already satisfied: scikit-learn>=1.0 in /opt/conda/envs/anaconda-panel-2023.05-py310/lib/python3.11/site-packages (from aif360) (1.3.0)\n",
      "Requirement already satisfied: matplotlib in /opt/conda/envs/anaconda-panel-2023.05-py310/lib/python3.11/site-packages (from aif360) (3.7.2)\n",
      "Requirement already satisfied: python-dateutil>=2.8.2 in /opt/conda/envs/anaconda-panel-2023.05-py310/lib/python3.11/site-packages (from pandas>=0.24.0->aif360) (2.8.2)\n",
      "Requirement already satisfied: pytz>=2020.1 in /opt/conda/envs/anaconda-panel-2023.05-py310/lib/python3.11/site-packages (from pandas>=0.24.0->aif360) (2023.3.post1)\n",
      "Requirement already satisfied: tzdata>=2022.1 in /opt/conda/envs/anaconda-panel-2023.05-py310/lib/python3.11/site-packages (from pandas>=0.24.0->aif360) (2023.3)\n",
      "Requirement already satisfied: joblib>=1.1.1 in /opt/conda/envs/anaconda-panel-2023.05-py310/lib/python3.11/site-packages (from scikit-learn>=1.0->aif360) (1.2.0)\n",
      "Requirement already satisfied: threadpoolctl>=2.0.0 in /opt/conda/envs/anaconda-panel-2023.05-py310/lib/python3.11/site-packages (from scikit-learn>=1.0->aif360) (2.2.0)\n",
      "Requirement already satisfied: contourpy>=1.0.1 in /opt/conda/envs/anaconda-panel-2023.05-py310/lib/python3.11/site-packages (from matplotlib->aif360) (1.0.5)\n",
      "Requirement already satisfied: cycler>=0.10 in /opt/conda/envs/anaconda-panel-2023.05-py310/lib/python3.11/site-packages (from matplotlib->aif360) (0.11.0)\n",
      "Requirement already satisfied: fonttools>=4.22.0 in /opt/conda/envs/anaconda-panel-2023.05-py310/lib/python3.11/site-packages (from matplotlib->aif360) (4.25.0)\n",
      "Requirement already satisfied: kiwisolver>=1.0.1 in /opt/conda/envs/anaconda-panel-2023.05-py310/lib/python3.11/site-packages (from matplotlib->aif360) (1.4.4)\n",
      "Requirement already satisfied: packaging>=20.0 in /opt/conda/envs/anaconda-panel-2023.05-py310/lib/python3.11/site-packages (from matplotlib->aif360) (23.1)\n",
      "Requirement already satisfied: pillow>=6.2.0 in /opt/conda/envs/anaconda-panel-2023.05-py310/lib/python3.11/site-packages (from matplotlib->aif360) (9.4.0)\n",
      "Requirement already satisfied: pyparsing<3.1,>=2.3.1 in /opt/conda/envs/anaconda-panel-2023.05-py310/lib/python3.11/site-packages (from matplotlib->aif360) (3.0.9)\n",
      "Requirement already satisfied: six>=1.5 in /opt/conda/envs/anaconda-panel-2023.05-py310/lib/python3.11/site-packages (from python-dateutil>=2.8.2->pandas>=0.24.0->aif360) (1.16.0)\n",
      "Downloading aif360-0.6.1-py3-none-any.whl (259 kB)\n",
      "\u001b[2K   \u001b[38;5;70m━━━━━━━━━━━━━━━━━━━━━━━━━━━━━━━━━━━━━━━━\u001b[0m \u001b[32m259.7/259.7 kB\u001b[0m \u001b[31m5.2 MB/s\u001b[0m eta \u001b[36m0:00:00\u001b[0m \u001b[36m0:00:01\u001b[0m\n",
      "\u001b[?25hInstalling collected packages: aif360\n",
      "Successfully installed aif360-0.6.1\n"
     ]
    },
    {
     "ename": "ModuleNotFoundError",
     "evalue": "No module named 'aif360'",
     "output_type": "error",
     "traceback": [
      "\u001b[0;31m---------------------------------------------------------------------------\u001b[0m",
      "\u001b[0;31mModuleNotFoundError\u001b[0m                       Traceback (most recent call last)",
      "Cell \u001b[0;32mIn[3], line 6\u001b[0m\n\u001b[1;32m      4\u001b[0m \u001b[38;5;66;03m# Step 1: Load and Preprocess Data\u001b[39;00m\n\u001b[1;32m      5\u001b[0m \u001b[38;5;28;01mimport\u001b[39;00m \u001b[38;5;21;01mpandas\u001b[39;00m \u001b[38;5;28;01mas\u001b[39;00m \u001b[38;5;21;01mpd\u001b[39;00m\n\u001b[0;32m----> 6\u001b[0m \u001b[38;5;28;01mfrom\u001b[39;00m \u001b[38;5;21;01maif360\u001b[39;00m\u001b[38;5;21;01m.\u001b[39;00m\u001b[38;5;21;01mdatasets\u001b[39;00m \u001b[38;5;28;01mimport\u001b[39;00m BinaryLabelDataset\n\u001b[1;32m      7\u001b[0m \u001b[38;5;28;01mfrom\u001b[39;00m \u001b[38;5;21;01maif360\u001b[39;00m\u001b[38;5;21;01m.\u001b[39;00m\u001b[38;5;21;01mmetrics\u001b[39;00m \u001b[38;5;28;01mimport\u001b[39;00m BinaryLabelDatasetMetric\n\u001b[1;32m      9\u001b[0m \u001b[38;5;66;03m# Load COMPAS data (filtered for relevant columns)\u001b[39;00m\n",
      "\u001b[0;31mModuleNotFoundError\u001b[0m: No module named 'aif360'"
     ]
    }
   ],
   "source": [
    "# First, install the aif360 package\n",
    "!pip install aif360\n",
    "\n",
    "# Step 1: Load and Preprocess Data\n",
    "import pandas as pd\n",
    "from aif360.datasets import BinaryLabelDataset\n",
    "from aif360.metrics import BinaryLabelDatasetMetric\n",
    "\n",
    "# Load COMPAS data (filtered for relevant columns)\n",
    "df = pd.read_csv(\"compas-scores-two-years.csv\")\n",
    "df = df[[\"race\", \"decile_score\", \"two_year_recid\"]]\n",
    "\n",
    "# Convert to AIF360 format\n",
    "dataset = BinaryLabelDataset(\n",
    "    favorable_label=0,  # Lower recidivism\n",
    "    unfavorable_label=1,\n",
    "    df=df,\n",
    "    label_names=[\"two_year_recid\"],\n",
    "    protected_attribute_names=[\"race\"]\n",
    ")"
   ]
  },
  {
   "cell_type": "code",
   "execution_count": null,
   "id": "29864635-b5e3-4b57-9e0e-b81f66719b5d",
   "metadata": {},
   "outputs": [],
   "source": [
    "# Step 2: Compute Bias Metrics\n",
    "from aif360.metrics import ClassificationMetric\n",
    "\n",
    "# Split data by race (Black vs. White)\n",
    "black = dataset.subset([df[\"race\"] == \"African-American\"])\n",
    "white = dataset.subset([df[\"race\"] == \"Caucasian\"])\n",
    "\n",
    "# Calculate fairness metrics\n",
    "metric = ClassificationMetric(\n",
    "    dataset, white,\n",
    "    unprivileged_groups=[{\"race\": 0}],  # African-American\n",
    "    privileged_groups=[{\"race\": 1}]     # Caucasian\n",
    ")\n",
    "\n",
    "print(f\"Disparate Impact: {metric.disparate_impact()}\")\n",
    "print(f\"False Positive Rate Difference: {metric.false_positive_rate_difference()}\")\n",
    "print(f\"Statistical Parity Difference: {metric.statistical_parity_difference()}\")\n",
    "\n",
    "# Expected Output\n",
    "# Disparate Impact < 0.8 (bias against Black defendants)\n",
    "\n",
    "# Higher false positive rates for Black defendants."
   ]
  },
  {
   "cell_type": "code",
   "execution_count": null,
   "id": "1f4aae80-fe74-40b9-9a26-6937db734c39",
   "metadata": {},
   "outputs": [],
   "source": [
    "# Step 3: Visualize Disparities\n",
    "import matplotlib.pyplot as plt\n",
    "import seaborn as sns\n",
    "\n",
    "# Plot false positive rates by race\n",
    "fp_rates = {\n",
    "    \"Black\": metric.false_positive_rate(),\n",
    "    \"White\": metric.false_positive_rate(privileged=True)\n",
    "}\n",
    "\n",
    "sns.barplot(x=list(fp_rates.keys()), y=list(fp_rates.values()))\n",
    "plt.title(\"False Positive Rates by Race\")\n",
    "plt.ylabel(\"False Positive Rate\")\n",
    "plt.show()\n",
    "\n",
    "# Visualization: https://via.placeholder.com/400x200?text=Black+defendants+have+higher+false+positives"
   ]
  },
  {
   "cell_type": "code",
   "execution_count": null,
   "id": "469a7fcc-8be4-4c6d-911f-3d8e3a5a14f2",
   "metadata": {},
   "outputs": [],
   "source": [
    "# Step 4: Mitigate Bias (Optional)\n",
    "# Use reweighting or rejection option classification:\n",
    " \n",
    "from aif360.algorithms.preprocessing import Reweighing\n",
    "\n",
    "# Apply reweighting to balance labels\n",
    "RW = Reweighing(unprivileged_groups=[{\"race\": 0}], privileged_groups=[{\"race\": 1}])\n",
    "dataset_transf = RW.fit_transform(dataset)\n"
   ]
  }
 ],
 "metadata": {
  "kernelspec": {
   "display_name": "anaconda-panel-2023.05-py310",
   "language": "python",
   "name": "conda-env-anaconda-panel-2023.05-py310-py"
  },
  "language_info": {
   "codemirror_mode": {
    "name": "ipython",
    "version": 3
   },
   "file_extension": ".py",
   "mimetype": "text/x-python",
   "name": "python",
   "nbconvert_exporter": "python",
   "pygments_lexer": "ipython3",
   "version": "3.11.5"
  }
 },
 "nbformat": 4,
 "nbformat_minor": 5
}
